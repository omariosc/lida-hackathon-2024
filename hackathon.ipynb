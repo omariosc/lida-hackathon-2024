{
 "cells": [
  {
   "cell_type": "code",
   "execution_count": null,
   "metadata": {},
   "outputs": [],
   "source": [
    "import pandas as pd\n",
    "import folium\n",
    "from folium.plugins import HeatMap\n",
    "import matplotlib.pyplot as plt\n",
    "\n",
    "# Load the crime data\n",
    "crime_data_path = \"data/2024-07-west-yorkshire-street.csv\"\n",
    "crime_df = pd.read_csv(crime_data_path)\n",
    "\n",
    "crime_df.head()"
   ]
  },
  {
   "cell_type": "code",
   "execution_count": null,
   "metadata": {},
   "outputs": [],
   "source": [
    "!pip freeze > requirements.txt"
   ]
  },
  {
   "cell_type": "code",
   "execution_count": null,
   "metadata": {},
   "outputs": [],
   "source": [
    "import geopandas\n",
    "\n",
    "leeds = geopandas.read_file(\"data/osm_leeds.geojson\")\n",
    "\n",
    "leeds"
   ]
  },
  {
   "cell_type": "code",
   "execution_count": 3,
   "metadata": {},
   "outputs": [],
   "source": [
    "leeds = leeds.set_index(\"name\")"
   ]
  },
  {
   "cell_type": "code",
   "execution_count": null,
   "metadata": {},
   "outputs": [],
   "source": [
    "leeds[\"area\"] = leeds.area\n",
    "leeds[\"area\"]"
   ]
  },
  {
   "cell_type": "code",
   "execution_count": null,
   "metadata": {},
   "outputs": [],
   "source": [
    "leeds[\"boundary\"] = leeds.boundary\n",
    "leeds[\"boundary\"]"
   ]
  },
  {
   "cell_type": "code",
   "execution_count": null,
   "metadata": {},
   "outputs": [],
   "source": [
    "leeds[\"centroid\"] = leeds.centroid\n",
    "leeds[\"centroid\"]"
   ]
  },
  {
   "cell_type": "code",
   "execution_count": null,
   "metadata": {},
   "outputs": [],
   "source": [
    "first_point = leeds[\"centroid\"].iloc[0]\n",
    "leeds[\"distance\"] = leeds[\"centroid\"].distance(first_point)\n",
    "leeds[\"distance\"]"
   ]
  },
  {
   "cell_type": "code",
   "execution_count": null,
   "metadata": {},
   "outputs": [],
   "source": [
    "leeds[\"distance\"].mean()"
   ]
  },
  {
   "cell_type": "code",
   "execution_count": null,
   "metadata": {},
   "outputs": [],
   "source": [
    "leeds.plot(\"area\", legend=True)"
   ]
  },
  {
   "cell_type": "code",
   "execution_count": null,
   "metadata": {},
   "outputs": [],
   "source": [
    "leeds.explore(\"area\", legend=False)"
   ]
  },
  {
   "cell_type": "code",
   "execution_count": null,
   "metadata": {},
   "outputs": [],
   "source": [
    "leeds.info()"
   ]
  },
  {
   "cell_type": "code",
   "execution_count": null,
   "metadata": {},
   "outputs": [],
   "source": [
    "# Load the Leeds map from GeoJSON\n",
    "leeds_map_path = \"data/osm_leeds.geojson\"\n",
    "leeds_gdf = geopandas.read_file(leeds_map_path)\n",
    "\n",
    "# Display the first few rows to understand the structure\n",
    "leeds_gdf.head()"
   ]
  },
  {
   "cell_type": "code",
   "execution_count": null,
   "metadata": {},
   "outputs": [],
   "source": [
    "unique_highway_fields = leeds_gdf[\"highway\"].unique()\n",
    "unique_highway_fields"
   ]
  },
  {
   "cell_type": "code",
   "execution_count": null,
   "metadata": {},
   "outputs": [],
   "source": [
    "# Create a folium map centred around Leeds\n",
    "leeds_map = folium.Map(location=[53.8008, -1.5491], zoom_start=12)\n",
    "\n",
    "# Extract the relevant columns from the crime data for latitude and longitude\n",
    "crime_locations = crime_df[[\"Latitude\", \"Longitude\"]].dropna()\n",
    "\n",
    "# Create a list of locations for the heatmap\n",
    "heatmap_data = crime_locations.values.tolist()\n",
    "\n",
    "# Add HeatMap to the Leeds map using green (safe) to red (dangerous) colours\n",
    "HeatMap(\n",
    "    heatmap_data,\n",
    "    min_opacity=0.4,\n",
    "    radius=10,\n",
    "    blur=15,\n",
    "    max_zoom=1,\n",
    "    gradient={0.2: \"green\", 0.5: \"yellow\", 1: \"red\"},\n",
    ").add_to(leeds_map)\n",
    "\n",
    "# Overlay the Leeds boundaries from the GeoJSON file\n",
    "folium.GeoJson(leeds_gdf, name=\"Leeds Boundaries\").add_to(leeds_map)\n",
    "\n",
    "# Save the map as an HTML file to view\n",
    "leeds_map.save(\"output/leeds_crime_heatmap.html\")\n",
    "\n",
    "# Display the map object\n",
    "leeds_map"
   ]
  },
  {
   "cell_type": "code",
   "execution_count": null,
   "metadata": {},
   "outputs": [],
   "source": [
    "import glob\n",
    "import os\n",
    "\n",
    "# Define the directory containing the CSV files\n",
    "data_directory = \"data/\"\n",
    "\n",
    "# Use glob to find all CSV files that contain 'west-yorkshire-street' in their name\n",
    "csv_files = glob.glob(os.path.join(data_directory, \"*west-yorkshire-street*.csv\"))\n",
    "\n",
    "# Load and concatenate all CSV files into a single DataFrame\n",
    "combined_crime_df = pd.concat(\n",
    "    [pd.read_csv(file) for file in csv_files], ignore_index=True\n",
    ")\n",
    "\n",
    "# Display the first few rows of the combined DataFrame to verify\n",
    "combined_crime_df.head()"
   ]
  },
  {
   "cell_type": "code",
   "execution_count": null,
   "metadata": {},
   "outputs": [],
   "source": [
    "# Create a folium map centered around Leeds\n",
    "leeds_map = folium.Map(location=[53.8008, -1.5491], zoom_start=12)\n",
    "\n",
    "# Extract the relevant columns from the crime data for latitude and longitude\n",
    "crime_locations = combined_crime_df[[\"Latitude\", \"Longitude\"]].dropna()\n",
    "\n",
    "# Create a list of locations for the heatmap\n",
    "heatmap_data = crime_locations.values.tolist()\n",
    "\n",
    "# Add HeatMap to the Leeds map using green (safe) to red (dangerous) colours\n",
    "HeatMap(\n",
    "    heatmap_data,\n",
    "    min_opacity=0.4,\n",
    "    radius=10,\n",
    "    blur=15,\n",
    "    max_zoom=1,\n",
    "    gradient={0.2: \"green\", 0.5: \"yellow\", 1: \"red\"},\n",
    ").add_to(leeds_map)\n",
    "\n",
    "# Overlay the Leeds boundaries from the GeoJSON file with reduced opacity\n",
    "folium.GeoJson(\n",
    "    leeds_gdf,\n",
    "    name=\"Leeds Boundaries\",\n",
    "    style_function=lambda feature: {\n",
    "        \"color\": \"blue\",\n",
    "        \"weight\": 1,\n",
    "        \"opacity\": 0.3,  # Reduce opacity to make streets less prominent\n",
    "    },\n",
    ").add_to(leeds_map)\n",
    "\n",
    "# Save the map as an HTML file to view\n",
    "leeds_map.save(\"output/leeds_all_crime_heatmap_reduced_street_opacity.html\")\n",
    "\n",
    "# Display the map object\n",
    "leeds_map"
   ]
  },
  {
   "cell_type": "code",
   "execution_count": null,
   "metadata": {},
   "outputs": [],
   "source": [
    "# First, reset and project GeoDataFrames appropriately\n",
    "import geopandas as gpd\n",
    "from shapely.geometry import Point\n",
    "\n",
    "# Re-load the combined crime dataset and convert it into a GeoDataFrame\n",
    "crime_gdf = gpd.GeoDataFrame(\n",
    "    combined_crime_df,\n",
    "    geometry=[\n",
    "        Point(xy)\n",
    "        for xy in zip(combined_crime_df[\"Longitude\"], combined_crime_df[\"Latitude\"])\n",
    "    ],\n",
    "    crs=\"EPSG:4326\",\n",
    ")\n",
    "\n",
    "# Re-project both GeoDataFrames to a projected CRS (EPSG:27700 - British National Grid)\n",
    "crime_gdf = crime_gdf.to_crs(epsg=27700)\n",
    "leeds_gdf = leeds_gdf.to_crs(epsg=27700)\n",
    "\n",
    "# Create a spatial index for the Leeds streets GeoDataFrame to optimize the matching process\n",
    "leeds_sindex = leeds_gdf.sindex\n",
    "\n",
    "# Reset crime counts in leeds_gdf\n",
    "leeds_gdf[\"crime_count\"] = 0\n",
    "\n",
    "# Iterate through each crime and assign it to the nearest street within a reasonable threshold\n",
    "max_distance_threshold = 1000  # 1 km in meters\n",
    "for crime_idx, crime in crime_gdf.iterrows():\n",
    "    # Get potential matches for the crime point\n",
    "    possible_matches_index = list(leeds_sindex.intersection(crime.geometry.bounds))\n",
    "    possible_matches = leeds_gdf.iloc[possible_matches_index]\n",
    "\n",
    "    # Calculate distances to find the nearest street\n",
    "    if not possible_matches.empty:\n",
    "        distances = possible_matches.distance(crime.geometry)\n",
    "        nearest_street_idx = distances.idxmin()\n",
    "\n",
    "        # Update crime count if the distance is within the threshold\n",
    "        if distances[nearest_street_idx] <= max_distance_threshold:\n",
    "            leeds_gdf.at[nearest_street_idx, \"crime_count\"] += 1\n",
    "\n",
    "# Re-project leeds_gdf back to the original geographic CRS for folium mapping (EPSG:4326)\n",
    "leeds_gdf = leeds_gdf.to_crs(epsg=4326)\n",
    "\n",
    "# Determine crime count thresholds for categorizing streets\n",
    "safe_threshold = 5\n",
    "warning_threshold = 15\n",
    "\n",
    "\n",
    "# Function to determine the colour for each street based on crime count\n",
    "def crime_rate_colour(crime_count):\n",
    "    if pd.isna(crime_count) or crime_count <= safe_threshold:\n",
    "        return \"green\"  # Safe\n",
    "    elif crime_count <= warning_threshold:\n",
    "        return \"yellow\"  # Warning\n",
    "    else:\n",
    "        return \"red\"  # Dangerous\n",
    "\n",
    "\n",
    "# Overlay the Leeds boundaries from the GeoJSON file with crime rate-based colouring\n",
    "def crime_rate_style_function(feature):\n",
    "    crime_count = feature[\"properties\"].get(\"crime_count\", 0)\n",
    "    color = crime_rate_colour(crime_count)\n",
    "    return {\"color\": color, \"weight\": 3, \"opacity\": 0.7}\n",
    "\n",
    "\n",
    "# Create a folium map with streets coloured based on crime rate\n",
    "leeds_map_crime_colours = folium.Map(location=[53.8008, -1.5491], zoom_start=12)\n",
    "\n",
    "# Add the styled GeoJSON layer to the map\n",
    "folium.GeoJson(\n",
    "    leeds_gdf, name=\"Leeds Streets Crime Rate\", style_function=crime_rate_style_function\n",
    ").add_to(leeds_map_crime_colours)\n",
    "\n",
    "# Save the map as an HTML file to view\n",
    "leeds_map_crime_colours.save(\"output/leeds_streets_crime_rate_map.html\")\n",
    "\n",
    "# Provide the link to download and view the map\n",
    "leeds_map_crime_colours"
   ]
  }
 ],
 "metadata": {
  "kernelspec": {
   "display_name": "Python 3",
   "language": "python",
   "name": "python3"
  },
  "language_info": {
   "codemirror_mode": {
    "name": "ipython",
    "version": 3
   },
   "file_extension": ".py",
   "mimetype": "text/x-python",
   "name": "python",
   "nbconvert_exporter": "python",
   "pygments_lexer": "ipython3",
   "version": "3.12.3"
  }
 },
 "nbformat": 4,
 "nbformat_minor": 2
}
